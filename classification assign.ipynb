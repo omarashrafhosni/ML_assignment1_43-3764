{
 "cells": [
  {
   "cell_type": "code",
   "execution_count": 1,
   "metadata": {},
   "outputs": [
    {
     "name": "stderr",
     "output_type": "stream",
     "text": [
      "C:\\Users\\Omar\\AppData\\Roaming\\Python\\Python37\\site-packages\\pandas\\compat\\_optional.py:138: UserWarning: Pandas requires version '2.7.0' or newer of 'numexpr' (version '2.6.9' currently installed).\n",
      "  warnings.warn(msg, UserWarning)\n"
     ]
    }
   ],
   "source": [
    "import seaborn as sns \n",
    "import matplotlib.pyplot as plt\n",
    "import pandas as pd\n",
    "import numpy as np"
   ]
  },
  {
   "cell_type": "code",
   "execution_count": 2,
   "metadata": {},
   "outputs": [
    {
     "data": {
      "text/html": [
       "<div>\n",
       "<style scoped>\n",
       "    .dataframe tbody tr th:only-of-type {\n",
       "        vertical-align: middle;\n",
       "    }\n",
       "\n",
       "    .dataframe tbody tr th {\n",
       "        vertical-align: top;\n",
       "    }\n",
       "\n",
       "    .dataframe thead th {\n",
       "        text-align: right;\n",
       "    }\n",
       "</style>\n",
       "<table border=\"1\" class=\"dataframe\">\n",
       "  <thead>\n",
       "    <tr style=\"text-align: right;\">\n",
       "      <th></th>\n",
       "      <th>step</th>\n",
       "      <th>type</th>\n",
       "      <th>amount</th>\n",
       "      <th>nameOrig</th>\n",
       "      <th>oldbalanceOrg</th>\n",
       "      <th>newbalanceOrig</th>\n",
       "      <th>nameDest</th>\n",
       "      <th>oldbalanceDest</th>\n",
       "      <th>newbalanceDest</th>\n",
       "      <th>isFraud</th>\n",
       "      <th>isFlaggedFraud</th>\n",
       "    </tr>\n",
       "  </thead>\n",
       "  <tbody>\n",
       "    <tr>\n",
       "      <th>0</th>\n",
       "      <td>1</td>\n",
       "      <td>PAYMENT</td>\n",
       "      <td>9839.64</td>\n",
       "      <td>C1231006815</td>\n",
       "      <td>170136.00</td>\n",
       "      <td>160296.36</td>\n",
       "      <td>M1979787155</td>\n",
       "      <td>0.00</td>\n",
       "      <td>0.00</td>\n",
       "      <td>0</td>\n",
       "      <td>0</td>\n",
       "    </tr>\n",
       "    <tr>\n",
       "      <th>1</th>\n",
       "      <td>1</td>\n",
       "      <td>PAYMENT</td>\n",
       "      <td>1864.28</td>\n",
       "      <td>C1666544295</td>\n",
       "      <td>21249.00</td>\n",
       "      <td>19384.72</td>\n",
       "      <td>M2044282225</td>\n",
       "      <td>0.00</td>\n",
       "      <td>0.00</td>\n",
       "      <td>0</td>\n",
       "      <td>0</td>\n",
       "    </tr>\n",
       "    <tr>\n",
       "      <th>2</th>\n",
       "      <td>1</td>\n",
       "      <td>TRANSFER</td>\n",
       "      <td>181.00</td>\n",
       "      <td>C1305486145</td>\n",
       "      <td>181.00</td>\n",
       "      <td>0.00</td>\n",
       "      <td>C553264065</td>\n",
       "      <td>0.00</td>\n",
       "      <td>0.00</td>\n",
       "      <td>1</td>\n",
       "      <td>0</td>\n",
       "    </tr>\n",
       "    <tr>\n",
       "      <th>3</th>\n",
       "      <td>1</td>\n",
       "      <td>CASH_OUT</td>\n",
       "      <td>181.00</td>\n",
       "      <td>C840083671</td>\n",
       "      <td>181.00</td>\n",
       "      <td>0.00</td>\n",
       "      <td>C38997010</td>\n",
       "      <td>21182.00</td>\n",
       "      <td>0.00</td>\n",
       "      <td>1</td>\n",
       "      <td>0</td>\n",
       "    </tr>\n",
       "    <tr>\n",
       "      <th>4</th>\n",
       "      <td>1</td>\n",
       "      <td>PAYMENT</td>\n",
       "      <td>11668.14</td>\n",
       "      <td>C2048537720</td>\n",
       "      <td>41554.00</td>\n",
       "      <td>29885.86</td>\n",
       "      <td>M1230701703</td>\n",
       "      <td>0.00</td>\n",
       "      <td>0.00</td>\n",
       "      <td>0</td>\n",
       "      <td>0</td>\n",
       "    </tr>\n",
       "    <tr>\n",
       "      <th>...</th>\n",
       "      <td>...</td>\n",
       "      <td>...</td>\n",
       "      <td>...</td>\n",
       "      <td>...</td>\n",
       "      <td>...</td>\n",
       "      <td>...</td>\n",
       "      <td>...</td>\n",
       "      <td>...</td>\n",
       "      <td>...</td>\n",
       "      <td>...</td>\n",
       "      <td>...</td>\n",
       "    </tr>\n",
       "    <tr>\n",
       "      <th>6362615</th>\n",
       "      <td>743</td>\n",
       "      <td>CASH_OUT</td>\n",
       "      <td>339682.13</td>\n",
       "      <td>C786484425</td>\n",
       "      <td>339682.13</td>\n",
       "      <td>0.00</td>\n",
       "      <td>C776919290</td>\n",
       "      <td>0.00</td>\n",
       "      <td>339682.13</td>\n",
       "      <td>1</td>\n",
       "      <td>0</td>\n",
       "    </tr>\n",
       "    <tr>\n",
       "      <th>6362616</th>\n",
       "      <td>743</td>\n",
       "      <td>TRANSFER</td>\n",
       "      <td>6311409.28</td>\n",
       "      <td>C1529008245</td>\n",
       "      <td>6311409.28</td>\n",
       "      <td>0.00</td>\n",
       "      <td>C1881841831</td>\n",
       "      <td>0.00</td>\n",
       "      <td>0.00</td>\n",
       "      <td>1</td>\n",
       "      <td>0</td>\n",
       "    </tr>\n",
       "    <tr>\n",
       "      <th>6362617</th>\n",
       "      <td>743</td>\n",
       "      <td>CASH_OUT</td>\n",
       "      <td>6311409.28</td>\n",
       "      <td>C1162922333</td>\n",
       "      <td>6311409.28</td>\n",
       "      <td>0.00</td>\n",
       "      <td>C1365125890</td>\n",
       "      <td>68488.84</td>\n",
       "      <td>6379898.11</td>\n",
       "      <td>1</td>\n",
       "      <td>0</td>\n",
       "    </tr>\n",
       "    <tr>\n",
       "      <th>6362618</th>\n",
       "      <td>743</td>\n",
       "      <td>TRANSFER</td>\n",
       "      <td>850002.52</td>\n",
       "      <td>C1685995037</td>\n",
       "      <td>850002.52</td>\n",
       "      <td>0.00</td>\n",
       "      <td>C2080388513</td>\n",
       "      <td>0.00</td>\n",
       "      <td>0.00</td>\n",
       "      <td>1</td>\n",
       "      <td>0</td>\n",
       "    </tr>\n",
       "    <tr>\n",
       "      <th>6362619</th>\n",
       "      <td>743</td>\n",
       "      <td>CASH_OUT</td>\n",
       "      <td>850002.52</td>\n",
       "      <td>C1280323807</td>\n",
       "      <td>850002.52</td>\n",
       "      <td>0.00</td>\n",
       "      <td>C873221189</td>\n",
       "      <td>6510099.11</td>\n",
       "      <td>7360101.63</td>\n",
       "      <td>1</td>\n",
       "      <td>0</td>\n",
       "    </tr>\n",
       "  </tbody>\n",
       "</table>\n",
       "<p>6362620 rows × 11 columns</p>\n",
       "</div>"
      ],
      "text/plain": [
       "         step      type      amount     nameOrig  oldbalanceOrg  \\\n",
       "0           1   PAYMENT     9839.64  C1231006815      170136.00   \n",
       "1           1   PAYMENT     1864.28  C1666544295       21249.00   \n",
       "2           1  TRANSFER      181.00  C1305486145         181.00   \n",
       "3           1  CASH_OUT      181.00   C840083671         181.00   \n",
       "4           1   PAYMENT    11668.14  C2048537720       41554.00   \n",
       "...       ...       ...         ...          ...            ...   \n",
       "6362615   743  CASH_OUT   339682.13   C786484425      339682.13   \n",
       "6362616   743  TRANSFER  6311409.28  C1529008245     6311409.28   \n",
       "6362617   743  CASH_OUT  6311409.28  C1162922333     6311409.28   \n",
       "6362618   743  TRANSFER   850002.52  C1685995037      850002.52   \n",
       "6362619   743  CASH_OUT   850002.52  C1280323807      850002.52   \n",
       "\n",
       "         newbalanceOrig     nameDest  oldbalanceDest  newbalanceDest  isFraud  \\\n",
       "0             160296.36  M1979787155            0.00            0.00        0   \n",
       "1              19384.72  M2044282225            0.00            0.00        0   \n",
       "2                  0.00   C553264065            0.00            0.00        1   \n",
       "3                  0.00    C38997010        21182.00            0.00        1   \n",
       "4              29885.86  M1230701703            0.00            0.00        0   \n",
       "...                 ...          ...             ...             ...      ...   \n",
       "6362615            0.00   C776919290            0.00       339682.13        1   \n",
       "6362616            0.00  C1881841831            0.00            0.00        1   \n",
       "6362617            0.00  C1365125890        68488.84      6379898.11        1   \n",
       "6362618            0.00  C2080388513            0.00            0.00        1   \n",
       "6362619            0.00   C873221189      6510099.11      7360101.63        1   \n",
       "\n",
       "         isFlaggedFraud  \n",
       "0                     0  \n",
       "1                     0  \n",
       "2                     0  \n",
       "3                     0  \n",
       "4                     0  \n",
       "...                 ...  \n",
       "6362615               0  \n",
       "6362616               0  \n",
       "6362617               0  \n",
       "6362618               0  \n",
       "6362619               0  \n",
       "\n",
       "[6362620 rows x 11 columns]"
      ]
     },
     "execution_count": 2,
     "metadata": {},
     "output_type": "execute_result"
    }
   ],
   "source": [
    "# #header=['step', 'type', 'amount', 'nameOrig', 'oldbalanceOrg', 'newbalanceOrig', 'nameDest', 'oldbalanceDest', \n",
    "#         'newbalanceDest', 'isFraud']\n",
    "data= pd.read_csv(\"PS_20174392719_1491204439457_log.csv\")\n",
    "data"
   ]
  },
  {
   "cell_type": "code",
   "execution_count": 3,
   "metadata": {},
   "outputs": [],
   "source": [
    "data_sampled= data.sample(n=70000)"
   ]
  },
  {
   "cell_type": "code",
   "execution_count": 4,
   "metadata": {},
   "outputs": [
    {
     "data": {
      "text/plain": [
       "0    0.998714\n",
       "1    0.001286\n",
       "Name: isFraud, dtype: float64"
      ]
     },
     "execution_count": 4,
     "metadata": {},
     "output_type": "execute_result"
    }
   ],
   "source": [
    "data_sampled['isFraud'].value_counts()/data_sampled['isFraud'].size"
   ]
  },
  {
   "cell_type": "code",
   "execution_count": 5,
   "metadata": {},
   "outputs": [
    {
     "name": "stdout",
     "output_type": "stream",
     "text": [
      "<class 'pandas.core.frame.DataFrame'>\n",
      "Int64Index: 70000 entries, 4197056 to 2722106\n",
      "Data columns (total 11 columns):\n",
      " #   Column          Non-Null Count  Dtype  \n",
      "---  ------          --------------  -----  \n",
      " 0   step            70000 non-null  int64  \n",
      " 1   type            70000 non-null  object \n",
      " 2   amount          70000 non-null  float64\n",
      " 3   nameOrig        70000 non-null  object \n",
      " 4   oldbalanceOrg   70000 non-null  float64\n",
      " 5   newbalanceOrig  70000 non-null  float64\n",
      " 6   nameDest        70000 non-null  object \n",
      " 7   oldbalanceDest  70000 non-null  float64\n",
      " 8   newbalanceDest  70000 non-null  float64\n",
      " 9   isFraud         70000 non-null  int64  \n",
      " 10  isFlaggedFraud  70000 non-null  int64  \n",
      "dtypes: float64(5), int64(3), object(3)\n",
      "memory usage: 6.4+ MB\n"
     ]
    }
   ],
   "source": [
    "data_sampled.info()"
   ]
  },
  {
   "cell_type": "code",
   "execution_count": 6,
   "metadata": {},
   "outputs": [
    {
     "data": {
      "text/plain": [
       "step              0.0\n",
       "type              0.0\n",
       "amount            0.0\n",
       "nameOrig          0.0\n",
       "oldbalanceOrg     0.0\n",
       "newbalanceOrig    0.0\n",
       "nameDest          0.0\n",
       "oldbalanceDest    0.0\n",
       "newbalanceDest    0.0\n",
       "isFraud           0.0\n",
       "isFlaggedFraud    0.0\n",
       "dtype: float64"
      ]
     },
     "execution_count": 6,
     "metadata": {},
     "output_type": "execute_result"
    }
   ],
   "source": [
    "data_sampled.isnull().mean()"
   ]
  },
  {
   "cell_type": "code",
   "execution_count": 7,
   "metadata": {},
   "outputs": [
    {
     "data": {
      "text/plain": [
       "CASH_OUT    24829\n",
       "PAYMENT     23368\n",
       "CASH_IN     15495\n",
       "TRANSFER     5857\n",
       "DEBIT         451\n",
       "Name: type, dtype: int64"
      ]
     },
     "execution_count": 7,
     "metadata": {},
     "output_type": "execute_result"
    }
   ],
   "source": [
    "#no missing data\n",
    "\n",
    "data_sampled['type'].value_counts()"
   ]
  },
  {
   "cell_type": "code",
   "execution_count": 8,
   "metadata": {},
   "outputs": [
    {
     "data": {
      "text/html": [
       "<div>\n",
       "<style scoped>\n",
       "    .dataframe tbody tr th:only-of-type {\n",
       "        vertical-align: middle;\n",
       "    }\n",
       "\n",
       "    .dataframe tbody tr th {\n",
       "        vertical-align: top;\n",
       "    }\n",
       "\n",
       "    .dataframe thead th {\n",
       "        text-align: right;\n",
       "    }\n",
       "</style>\n",
       "<table border=\"1\" class=\"dataframe\">\n",
       "  <thead>\n",
       "    <tr style=\"text-align: right;\">\n",
       "      <th></th>\n",
       "      <th>step</th>\n",
       "      <th>type</th>\n",
       "      <th>amount</th>\n",
       "      <th>nameOrig</th>\n",
       "      <th>oldbalanceOrg</th>\n",
       "      <th>newbalanceOrig</th>\n",
       "      <th>nameDest</th>\n",
       "      <th>oldbalanceDest</th>\n",
       "      <th>newbalanceDest</th>\n",
       "      <th>isFraud</th>\n",
       "      <th>isFlaggedFraud</th>\n",
       "      <th>CASH_OUT</th>\n",
       "      <th>DEBIT</th>\n",
       "      <th>PAYMENT</th>\n",
       "      <th>TRANSFER</th>\n",
       "    </tr>\n",
       "  </thead>\n",
       "  <tbody>\n",
       "    <tr>\n",
       "      <th>4197056</th>\n",
       "      <td>305</td>\n",
       "      <td>CASH_OUT</td>\n",
       "      <td>133908.92</td>\n",
       "      <td>C1544890414</td>\n",
       "      <td>1392.00</td>\n",
       "      <td>0.00</td>\n",
       "      <td>C1167839972</td>\n",
       "      <td>393829.94</td>\n",
       "      <td>527738.86</td>\n",
       "      <td>0</td>\n",
       "      <td>0</td>\n",
       "      <td>1</td>\n",
       "      <td>0</td>\n",
       "      <td>0</td>\n",
       "      <td>0</td>\n",
       "    </tr>\n",
       "    <tr>\n",
       "      <th>44165</th>\n",
       "      <td>9</td>\n",
       "      <td>PAYMENT</td>\n",
       "      <td>15815.73</td>\n",
       "      <td>C228488418</td>\n",
       "      <td>0.00</td>\n",
       "      <td>0.00</td>\n",
       "      <td>M1569100709</td>\n",
       "      <td>0.00</td>\n",
       "      <td>0.00</td>\n",
       "      <td>0</td>\n",
       "      <td>0</td>\n",
       "      <td>0</td>\n",
       "      <td>0</td>\n",
       "      <td>1</td>\n",
       "      <td>0</td>\n",
       "    </tr>\n",
       "    <tr>\n",
       "      <th>6073953</th>\n",
       "      <td>514</td>\n",
       "      <td>CASH_IN</td>\n",
       "      <td>224982.68</td>\n",
       "      <td>C685855104</td>\n",
       "      <td>9139287.04</td>\n",
       "      <td>9364269.72</td>\n",
       "      <td>C480968146</td>\n",
       "      <td>1518634.08</td>\n",
       "      <td>1293651.41</td>\n",
       "      <td>0</td>\n",
       "      <td>0</td>\n",
       "      <td>0</td>\n",
       "      <td>0</td>\n",
       "      <td>0</td>\n",
       "      <td>0</td>\n",
       "    </tr>\n",
       "    <tr>\n",
       "      <th>5835578</th>\n",
       "      <td>402</td>\n",
       "      <td>CASH_IN</td>\n",
       "      <td>90952.79</td>\n",
       "      <td>C825714290</td>\n",
       "      <td>18020087.39</td>\n",
       "      <td>18111040.18</td>\n",
       "      <td>C888578804</td>\n",
       "      <td>167904.18</td>\n",
       "      <td>76951.39</td>\n",
       "      <td>0</td>\n",
       "      <td>0</td>\n",
       "      <td>0</td>\n",
       "      <td>0</td>\n",
       "      <td>0</td>\n",
       "      <td>0</td>\n",
       "    </tr>\n",
       "    <tr>\n",
       "      <th>1505339</th>\n",
       "      <td>143</td>\n",
       "      <td>PAYMENT</td>\n",
       "      <td>8291.50</td>\n",
       "      <td>C80461158</td>\n",
       "      <td>11839.00</td>\n",
       "      <td>3547.50</td>\n",
       "      <td>M1199215257</td>\n",
       "      <td>0.00</td>\n",
       "      <td>0.00</td>\n",
       "      <td>0</td>\n",
       "      <td>0</td>\n",
       "      <td>0</td>\n",
       "      <td>0</td>\n",
       "      <td>1</td>\n",
       "      <td>0</td>\n",
       "    </tr>\n",
       "  </tbody>\n",
       "</table>\n",
       "</div>"
      ],
      "text/plain": [
       "         step      type     amount     nameOrig  oldbalanceOrg  \\\n",
       "4197056   305  CASH_OUT  133908.92  C1544890414        1392.00   \n",
       "44165       9   PAYMENT   15815.73   C228488418           0.00   \n",
       "6073953   514   CASH_IN  224982.68   C685855104     9139287.04   \n",
       "5835578   402   CASH_IN   90952.79   C825714290    18020087.39   \n",
       "1505339   143   PAYMENT    8291.50    C80461158       11839.00   \n",
       "\n",
       "         newbalanceOrig     nameDest  oldbalanceDest  newbalanceDest  isFraud  \\\n",
       "4197056            0.00  C1167839972       393829.94       527738.86        0   \n",
       "44165              0.00  M1569100709            0.00            0.00        0   \n",
       "6073953      9364269.72   C480968146      1518634.08      1293651.41        0   \n",
       "5835578     18111040.18   C888578804       167904.18        76951.39        0   \n",
       "1505339         3547.50  M1199215257            0.00            0.00        0   \n",
       "\n",
       "         isFlaggedFraud  CASH_OUT  DEBIT  PAYMENT  TRANSFER  \n",
       "4197056               0         1      0        0         0  \n",
       "44165                 0         0      0        1         0  \n",
       "6073953               0         0      0        0         0  \n",
       "5835578               0         0      0        0         0  \n",
       "1505339               0         0      0        1         0  "
      ]
     },
     "execution_count": 8,
     "metadata": {},
     "output_type": "execute_result"
    }
   ],
   "source": [
    "\n",
    "#now we do one hot encoding for type column\n",
    "type_new = pd.get_dummies(data_sampled['type'],drop_first=True)\n",
    "data_sampled = pd.concat([data_sampled,type_new],axis=1)\n",
    "data_sampled.head()"
   ]
  },
  {
   "cell_type": "code",
   "execution_count": 9,
   "metadata": {},
   "outputs": [
    {
     "data": {
      "text/plain": [
       "70000"
      ]
     },
     "execution_count": 9,
     "metadata": {},
     "output_type": "execute_result"
    }
   ],
   "source": [
    "len(data_sampled['nameOrig'].unique())"
   ]
  },
  {
   "cell_type": "code",
   "execution_count": 10,
   "metadata": {},
   "outputs": [
    {
     "data": {
      "text/plain": [
       "66356"
      ]
     },
     "execution_count": 10,
     "metadata": {},
     "output_type": "execute_result"
    }
   ],
   "source": [
    "len(data_sampled['nameDest'].unique())"
   ]
  },
  {
   "cell_type": "code",
   "execution_count": 11,
   "metadata": {},
   "outputs": [
    {
     "data": {
      "text/plain": [
       "nameDest_sub\n",
       "C    90\n",
       "M     0\n",
       "Name: isFraud, dtype: int64"
      ]
     },
     "execution_count": 11,
     "metadata": {},
     "output_type": "execute_result"
    }
   ],
   "source": [
    "data_sampled['nameDest_sub'] =data_sampled.nameDest.str.slice(0, 1)\n",
    "data_sampled.groupby('nameDest_sub')['isFraud'].sum()"
   ]
  },
  {
   "cell_type": "code",
   "execution_count": 12,
   "metadata": {},
   "outputs": [
    {
     "data": {
      "text/html": [
       "<div>\n",
       "<style scoped>\n",
       "    .dataframe tbody tr th:only-of-type {\n",
       "        vertical-align: middle;\n",
       "    }\n",
       "\n",
       "    .dataframe tbody tr th {\n",
       "        vertical-align: top;\n",
       "    }\n",
       "\n",
       "    .dataframe thead th {\n",
       "        text-align: right;\n",
       "    }\n",
       "</style>\n",
       "<table border=\"1\" class=\"dataframe\">\n",
       "  <thead>\n",
       "    <tr style=\"text-align: right;\">\n",
       "      <th></th>\n",
       "      <th>step</th>\n",
       "      <th>type</th>\n",
       "      <th>amount</th>\n",
       "      <th>nameOrig</th>\n",
       "      <th>oldbalanceOrg</th>\n",
       "      <th>newbalanceOrig</th>\n",
       "      <th>nameDest</th>\n",
       "      <th>oldbalanceDest</th>\n",
       "      <th>newbalanceDest</th>\n",
       "      <th>isFraud</th>\n",
       "      <th>isFlaggedFraud</th>\n",
       "      <th>CASH_OUT</th>\n",
       "      <th>DEBIT</th>\n",
       "      <th>PAYMENT</th>\n",
       "      <th>TRANSFER</th>\n",
       "      <th>nameDest_sub</th>\n",
       "      <th>M</th>\n",
       "    </tr>\n",
       "  </thead>\n",
       "  <tbody>\n",
       "    <tr>\n",
       "      <th>4197056</th>\n",
       "      <td>305</td>\n",
       "      <td>CASH_OUT</td>\n",
       "      <td>133908.92</td>\n",
       "      <td>C1544890414</td>\n",
       "      <td>1392.00</td>\n",
       "      <td>0.00</td>\n",
       "      <td>C1167839972</td>\n",
       "      <td>393829.94</td>\n",
       "      <td>527738.86</td>\n",
       "      <td>0</td>\n",
       "      <td>0</td>\n",
       "      <td>1</td>\n",
       "      <td>0</td>\n",
       "      <td>0</td>\n",
       "      <td>0</td>\n",
       "      <td>C</td>\n",
       "      <td>0</td>\n",
       "    </tr>\n",
       "    <tr>\n",
       "      <th>44165</th>\n",
       "      <td>9</td>\n",
       "      <td>PAYMENT</td>\n",
       "      <td>15815.73</td>\n",
       "      <td>C228488418</td>\n",
       "      <td>0.00</td>\n",
       "      <td>0.00</td>\n",
       "      <td>M1569100709</td>\n",
       "      <td>0.00</td>\n",
       "      <td>0.00</td>\n",
       "      <td>0</td>\n",
       "      <td>0</td>\n",
       "      <td>0</td>\n",
       "      <td>0</td>\n",
       "      <td>1</td>\n",
       "      <td>0</td>\n",
       "      <td>M</td>\n",
       "      <td>1</td>\n",
       "    </tr>\n",
       "    <tr>\n",
       "      <th>6073953</th>\n",
       "      <td>514</td>\n",
       "      <td>CASH_IN</td>\n",
       "      <td>224982.68</td>\n",
       "      <td>C685855104</td>\n",
       "      <td>9139287.04</td>\n",
       "      <td>9364269.72</td>\n",
       "      <td>C480968146</td>\n",
       "      <td>1518634.08</td>\n",
       "      <td>1293651.41</td>\n",
       "      <td>0</td>\n",
       "      <td>0</td>\n",
       "      <td>0</td>\n",
       "      <td>0</td>\n",
       "      <td>0</td>\n",
       "      <td>0</td>\n",
       "      <td>C</td>\n",
       "      <td>0</td>\n",
       "    </tr>\n",
       "    <tr>\n",
       "      <th>5835578</th>\n",
       "      <td>402</td>\n",
       "      <td>CASH_IN</td>\n",
       "      <td>90952.79</td>\n",
       "      <td>C825714290</td>\n",
       "      <td>18020087.39</td>\n",
       "      <td>18111040.18</td>\n",
       "      <td>C888578804</td>\n",
       "      <td>167904.18</td>\n",
       "      <td>76951.39</td>\n",
       "      <td>0</td>\n",
       "      <td>0</td>\n",
       "      <td>0</td>\n",
       "      <td>0</td>\n",
       "      <td>0</td>\n",
       "      <td>0</td>\n",
       "      <td>C</td>\n",
       "      <td>0</td>\n",
       "    </tr>\n",
       "    <tr>\n",
       "      <th>1505339</th>\n",
       "      <td>143</td>\n",
       "      <td>PAYMENT</td>\n",
       "      <td>8291.50</td>\n",
       "      <td>C80461158</td>\n",
       "      <td>11839.00</td>\n",
       "      <td>3547.50</td>\n",
       "      <td>M1199215257</td>\n",
       "      <td>0.00</td>\n",
       "      <td>0.00</td>\n",
       "      <td>0</td>\n",
       "      <td>0</td>\n",
       "      <td>0</td>\n",
       "      <td>0</td>\n",
       "      <td>1</td>\n",
       "      <td>0</td>\n",
       "      <td>M</td>\n",
       "      <td>1</td>\n",
       "    </tr>\n",
       "  </tbody>\n",
       "</table>\n",
       "</div>"
      ],
      "text/plain": [
       "         step      type     amount     nameOrig  oldbalanceOrg  \\\n",
       "4197056   305  CASH_OUT  133908.92  C1544890414        1392.00   \n",
       "44165       9   PAYMENT   15815.73   C228488418           0.00   \n",
       "6073953   514   CASH_IN  224982.68   C685855104     9139287.04   \n",
       "5835578   402   CASH_IN   90952.79   C825714290    18020087.39   \n",
       "1505339   143   PAYMENT    8291.50    C80461158       11839.00   \n",
       "\n",
       "         newbalanceOrig     nameDest  oldbalanceDest  newbalanceDest  isFraud  \\\n",
       "4197056            0.00  C1167839972       393829.94       527738.86        0   \n",
       "44165              0.00  M1569100709            0.00            0.00        0   \n",
       "6073953      9364269.72   C480968146      1518634.08      1293651.41        0   \n",
       "5835578     18111040.18   C888578804       167904.18        76951.39        0   \n",
       "1505339         3547.50  M1199215257            0.00            0.00        0   \n",
       "\n",
       "         isFlaggedFraud  CASH_OUT  DEBIT  PAYMENT  TRANSFER nameDest_sub  M  \n",
       "4197056               0         1      0        0         0            C  0  \n",
       "44165                 0         0      0        1         0            M  1  \n",
       "6073953               0         0      0        0         0            C  0  \n",
       "5835578               0         0      0        0         0            C  0  \n",
       "1505339               0         0      0        1         0            M  1  "
      ]
     },
     "execution_count": 12,
     "metadata": {},
     "output_type": "execute_result"
    }
   ],
   "source": [
    "type_new = pd.get_dummies(data_sampled['nameDest_sub'],drop_first=True)\n",
    "data_sampled = pd.concat([data_sampled,type_new],axis=1)\n",
    "data_sampled.head()"
   ]
  },
  {
   "cell_type": "code",
   "execution_count": 13,
   "metadata": {},
   "outputs": [],
   "source": [
    "# for nameOrig nearly every row has a unique value so we can remove these columns before using our model\n",
    "# while for nameDest_sub all frauds have C value \n",
    "data_for_model= data_sampled[['step','CASH_OUT','DEBIT','PAYMENT','TRANSFER','amount','oldbalanceOrg','newbalanceOrig','oldbalanceDest','M','newbalanceDest','isFlaggedFraud']]\n",
    "\n",
    "Y= data_sampled['isFraud']"
   ]
  },
  {
   "cell_type": "code",
   "execution_count": 14,
   "metadata": {},
   "outputs": [
    {
     "name": "stdout",
     "output_type": "stream",
     "text": [
      "<class 'pandas.core.frame.DataFrame'>\n",
      "Int64Index: 70000 entries, 4197056 to 2722106\n",
      "Data columns (total 12 columns):\n",
      " #   Column          Non-Null Count  Dtype  \n",
      "---  ------          --------------  -----  \n",
      " 0   step            70000 non-null  int64  \n",
      " 1   CASH_OUT        70000 non-null  uint8  \n",
      " 2   DEBIT           70000 non-null  uint8  \n",
      " 3   PAYMENT         70000 non-null  uint8  \n",
      " 4   TRANSFER        70000 non-null  uint8  \n",
      " 5   amount          70000 non-null  float64\n",
      " 6   oldbalanceOrg   70000 non-null  float64\n",
      " 7   newbalanceOrig  70000 non-null  float64\n",
      " 8   oldbalanceDest  70000 non-null  float64\n",
      " 9   M               70000 non-null  uint8  \n",
      " 10  newbalanceDest  70000 non-null  float64\n",
      " 11  isFlaggedFraud  70000 non-null  int64  \n",
      "dtypes: float64(5), int64(2), uint8(5)\n",
      "memory usage: 4.6 MB\n"
     ]
    }
   ],
   "source": [
    "data_for_model.info()"
   ]
  },
  {
   "cell_type": "code",
   "execution_count": 15,
   "metadata": {},
   "outputs": [
    {
     "data": {
      "text/plain": [
       "((49000, 12), (21000, 12))"
      ]
     },
     "execution_count": 15,
     "metadata": {},
     "output_type": "execute_result"
    }
   ],
   "source": [
    "from sklearn.model_selection import train_test_split\n",
    "\n",
    "X_train, X_test, y_train, y_test = train_test_split(data_for_model,\n",
    "                                                    Y,\n",
    "                                                    test_size=0.3,\n",
    "                                                    random_state=0)\n",
    "\n",
    "# Get dimensions of X_train and X_test\n",
    "X_train.shape,X_test.shape"
   ]
  },
  {
   "cell_type": "code",
   "execution_count": 16,
   "metadata": {},
   "outputs": [],
   "source": [
    "from sklearn.model_selection import cross_validate\n",
    "def cross_validation(model, _X, _y, _cv):\n",
    "      \n",
    "#       model: Python Class, default=None\n",
    "#               This is the machine learning algorithm to be used for training.\n",
    "#       _X: array\n",
    "#            This is the matrix of features.\n",
    "#       _y: array\n",
    "#            This is the target variable.\n",
    "#       _cv: int, default=5\n",
    "#           Determines the number of folds for cross-validation.\n",
    "#        Returns\n",
    "#        -------\n",
    "#        The function returns a dictionary containing the metrics 'accuracy', 'precision',\n",
    "#        'recall', 'f1' for both training set and validation set.\n",
    "#       '''\n",
    "      \n",
    "        results = cross_validate(estimator=model,X=_X,y=_y,cv=_cv,scoring=['accuracy', 'recall'],return_train_score=True)\n",
    "        return results['train_accuracy'].mean()*100\n",
    "        \n",
    "    "
   ]
  },
  {
   "cell_type": "code",
   "execution_count": 17,
   "metadata": {},
   "outputs": [],
   "source": [
    "from sklearn import svm\n",
    "from sklearn import metrics\n",
    "\n",
    "kernels= [ 'poly', 'rbf', 'sigmoid']\n",
    "C_values=[0.00001,0.0001,0.001,0.01,0.1,1]\n",
    "max_acc=0\n",
    "kernel_maxacc=\"\"\n",
    "kernel_polyDegree=0\n",
    "accuracy=[]\n",
    "best_c_value=0\n",
    "for i in kernels:\n",
    "    if i == 'poly':\n",
    "        for j in range(1,10):\n",
    "            for c in C_values:\n",
    "                clf = svm.SVC(C=c,kernel=i,degree=j)\n",
    "                acc = cross_validation(clf, X_train, y_train, 3)\n",
    "\n",
    "                if (acc> max_acc):\n",
    "                    max_acc=acc\n",
    "                    kernel_maxacc=i\n",
    "                    kernel_polyDegree=j\n",
    "                    best_c_value=c\n",
    "                \n",
    "            \n",
    "\n",
    "            accuracy.append(acc)\n",
    "    else:\n",
    "        for c in C_values:\n",
    "            clf = svm.SVC(C=c,kernel=i)\n",
    "            acc = cross_validation(clf, X_train, y_train, 3)\n",
    "\n",
    "\n",
    "\n",
    "            if (acc> max_acc):\n",
    "                max_acc=acc\n",
    "                kernel_maxacc=i\n",
    "                best_c_value=c\n",
    "\n",
    "            accuracy.append(acc)\n",
    "    "
   ]
  },
  {
   "cell_type": "code",
   "execution_count": 18,
   "metadata": {},
   "outputs": [
    {
     "data": {
      "text/plain": [
       "[99.898979623053,\n",
       " 99.9010204497924,\n",
       " 99.89795916282735,\n",
       " 99.89795916282735,\n",
       " 99.89795916282735,\n",
       " 99.89795916282735,\n",
       " 99.89795916282735,\n",
       " 99.89795916282735,\n",
       " 99.89795916282735,\n",
       " 99.87346939814118,\n",
       " 99.87346939814118,\n",
       " 99.87346939814118,\n",
       " 99.87346939814118,\n",
       " 99.87346939814118,\n",
       " 99.91224488752847,\n",
       " 99.87346939814118,\n",
       " 99.87346939814118,\n",
       " 99.87346939814118,\n",
       " 99.87346939814118,\n",
       " 99.87346939814118,\n",
       " 99.80816325485374]"
      ]
     },
     "execution_count": 18,
     "metadata": {},
     "output_type": "execute_result"
    }
   ],
   "source": [
    "accuracy"
   ]
  },
  {
   "cell_type": "code",
   "execution_count": 22,
   "metadata": {},
   "outputs": [
    {
     "name": "stdout",
     "output_type": "stream",
     "text": [
      "Kernel with best accuracy: rbf With accuracy: 99.91224488752847\n",
      "Regularization parameter C with best accuracy: 1\n"
     ]
    }
   ],
   "source": [
    "print(\"Kernel with best accuracy: \"+ kernel_maxacc + \" With accuracy: \"+str(max_acc))\n",
    "print(\"Regularization parameter C with best accuracy: \" + str(best_c_value))\n",
    "if kernel_maxacc== 'poly':\n",
    "    print(\"degree in poly with best accuracy: \"+ str(kernel_polyDegree))"
   ]
  },
  {
   "cell_type": "code",
   "execution_count": 23,
   "metadata": {},
   "outputs": [
    {
     "name": "stdout",
     "output_type": "stream",
     "text": [
      "Accuracy: 0.9990476190476191\n"
     ]
    }
   ],
   "source": [
    "#using the test data with best parameters\n",
    "\n",
    "clf = svm.SVC(C=1.0,kernel='rbf')\n",
    "clf.fit(X_train, y_train)\n",
    "\n",
    "\n",
    "y_pred = clf.predict(X_test)\n",
    "\n",
    "\n",
    "\n",
    "print(\"Accuracy:\",metrics.accuracy_score(y_test, y_pred))\n",
    "\n"
   ]
  },
  {
   "cell_type": "code",
   "execution_count": null,
   "metadata": {},
   "outputs": [],
   "source": []
  }
 ],
 "metadata": {
  "kernelspec": {
   "display_name": "Python 3",
   "language": "python",
   "name": "python3"
  },
  "language_info": {
   "codemirror_mode": {
    "name": "ipython",
    "version": 3
   },
   "file_extension": ".py",
   "mimetype": "text/x-python",
   "name": "python",
   "nbconvert_exporter": "python",
   "pygments_lexer": "ipython3",
   "version": "3.7.3"
  }
 },
 "nbformat": 4,
 "nbformat_minor": 2
}
